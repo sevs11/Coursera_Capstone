{
 "cells": [
  {
   "cell_type": "markdown",
   "metadata": {},
   "source": [
    "# Hotel neighborhood selection advisor"
   ]
  },
  {
   "cell_type": "markdown",
   "metadata": {},
   "source": [
    "## Where to stay in new city"
   ]
  },
  {
   "cell_type": "markdown",
   "metadata": {},
   "source": [
    "Trips are one of the most popular ideas to spend a vacation. Such tourist centers as Paris, Prague or Rome are visited annually by many millions of tourists. At the same time these cities are centers of business and of course target of many business trips. People may have many different purposes of new city visiting. Somebody like the most to see sights, somebody wants to find excellent local restaurant, and somebody dreams on walk along the promenade. People who arrived on business trip may need banks, administrative institutions etc. How do we select a hotel or apartments? Usually we look through popular booking sites (these companies have not pay me, so I’ll skip names of popular services). These sites collect information about our activities. Registered users could see the history of their bookings. So it’s possible to give advice to customers based on their previous experience. Who could be interested in such a service? Both sides – travelers and booking services have their own necessity in such a service. Imagine, you are going to new city and site propose you “Please select the best 5 your previous booking places and we will find you a similar place for the next booking in new city”. It’s convenient, you will save a lot of time. Booking services may consider this feature as a competitive advantage."
   ]
  },
  {
   "cell_type": "markdown",
   "metadata": {},
   "source": [
    "## Data is all you need"
   ]
  },
  {
   "cell_type": "markdown",
   "metadata": {},
   "source": [
    "What kind of data do we need to make such a service? There are 2 types of data here. First of all, booking history is necessary. Second type of data is next trip data (target city and all data from foursquare). Sources of data:\n",
    "- User trips information – will be provided by user or booking service;\n",
    "- Locations information – will be taken from foursquares service.\n"
   ]
  },
  {
   "cell_type": "markdown",
   "metadata": {},
   "source": [
    "## Proof of concept pipeline"
   ]
  },
  {
   "cell_type": "markdown",
   "metadata": {},
   "source": [
    "Proof of concept pipeline will be the following:\n",
    "1.\tTake data about good previous bookings. This synthetic data will be generated for experiment (3-5 places on the world map).\n",
    "2.\tGet data from foursquare about these places, categorize information.\n",
    "3.\tFind something common for all the places by taking average value and sorting venues descending.\n",
    "4. Select several venues (from the top of the list) that describe the ideal place of booking. \n",
    "5.\tDefine Manhattan as a destination place (it’s good example because we have a lot of information about its neighborhoods), take information about selected venues in all the Manhattan neighborhoods.\n",
    "6. Cluster Manhattan neighborhoods together with ideal booking place data to find the most suitable neighborhoods to book in Manhattan\n"
   ]
  },
  {
   "cell_type": "markdown",
   "metadata": {},
   "source": [
    "## Results"
   ]
  },
  {
   "cell_type": "markdown",
   "metadata": {},
   "source": [
    "4 hotels in different countries were selected as good examples. This group have more than 100 different venues. Average data was calculated and sorted by quantity. Than top-8 venues were selected as data of ideal place. These venues are: Café,Hotel,Restaurant,Coffee Shop,Bakery,Park,Ice Cream Shop and Gym (everything that traveller may need). \n",
    "Than Manhattan data was analyzed by frequency of top-8 venues. Manhattan data was united with ideal place data and clusterred on 9 groups. All the neighborhoods that were clustered together with ideal place are the possible places of good booking.\n",
    "6 Manhattan neighborhoods were clustered in this group, the most suitable one - Turtle Bay. It's the best Manhattan neighborhood for person who select 4 hotels as good choise."
   ]
  },
  {
   "cell_type": "markdown",
   "metadata": {},
   "source": [
    "## Discussion and recommendations"
   ]
  },
  {
   "cell_type": "markdown",
   "metadata": {},
   "source": [
    "Does described technic could be useful for booking place selection? Surely, it could be improved. Aim of the trip (business or vacation), hotel prices in some neighborhood are also very important features. But venues around the hotels are really important part of good trip. And it's very hard to determine a good place in totally new city. So this capstone result is not sufficient to select good hotel but could be a first step to create a tool than could be useful for booking companies. "
   ]
  },
  {
   "cell_type": "markdown",
   "metadata": {},
   "source": [
    "## Conclusions"
   ]
  },
  {
   "cell_type": "markdown",
   "metadata": {},
   "source": [
    "The purpose of the course work was achieved, anyone can enter hotels from their best trips and see how the result of the recommendation changes. Of course, an interface is required for convenient use of such a tool."
   ]
  },
  {
   "cell_type": "code",
   "execution_count": null,
   "metadata": {},
   "outputs": [],
   "source": []
  }
 ],
 "metadata": {
  "kernelspec": {
   "display_name": "Python 3",
   "language": "python",
   "name": "python3"
  },
  "language_info": {
   "codemirror_mode": {
    "name": "ipython",
    "version": 3
   },
   "file_extension": ".py",
   "mimetype": "text/x-python",
   "name": "python",
   "nbconvert_exporter": "python",
   "pygments_lexer": "ipython3",
   "version": "3.6.8"
  }
 },
 "nbformat": 4,
 "nbformat_minor": 2
}
